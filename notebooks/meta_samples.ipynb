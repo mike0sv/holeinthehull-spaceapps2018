{
 "cells": [
  {
   "cell_type": "code",
   "execution_count": 1,
   "metadata": {},
   "outputs": [
    {
     "name": "stdout",
     "output_type": "stream",
     "text": [
      "Populating the interactive namespace from numpy and matplotlib\n"
     ]
    }
   ],
   "source": [
    "%pylab inline\n",
    "import os"
   ]
  },
  {
   "cell_type": "code",
   "execution_count": 14,
   "metadata": {},
   "outputs": [
    {
     "name": "stdout",
     "output_type": "stream",
     "text": [
      "failed ./hubble/meta/1.json\n"
     ]
    }
   ],
   "source": [
    "import json\n",
    "import glob\n",
    "\n",
    "metas = {}\n",
    "for file in glob.glob('./hubble/meta/*.json'):\n",
    "    with open(file, 'r', encoding='utf8') as mf:\n",
    "        try:\n",
    "            meta = json.load(mf)\n",
    "            metas[meta['id']] = meta\n",
    "        except:\n",
    "            print('failed', file)"
   ]
  },
  {
   "cell_type": "code",
   "execution_count": 15,
   "metadata": {},
   "outputs": [
    {
     "data": {
      "text/plain": [
       "{'name': 'Merging galaxy NGC 7252 From the Ground (left) and From Hubble (right) ',\n",
       " 'description': '[Left] Ground-based Telescopic Photograph NGC 7252 has been considered the prototypical example of a merger between two disk-shaped galaxies. The galaxy has a pair of long tails that are unambiguous evidence of the effects of gravitational tidal forces from a galaxy merger. The galaxy is nicknamed the \"Atoms-for-Peace\" galaxy because its stars form a bizarre loop-like structure that resembles a schematic diagram of electrons orbiting an atomic nucleus. (In December 1953, U.S. President Dwight 0. Eisenhower made his \"Atoms for Peace\" speech to foster peaceful applications of nuclear energy.) The galaxy is located 300 million light-years away in the constellation Aquarius.\\n\\n[Right] Hubble Space Telescope Planetary Camera Image of Galaxy Core A NASA Hubble Space Telescope image of the core of the peculiar galaxy NGC 7252 reveals a striking \"mini-spiral\" disk of gas and stars, and about 40 exceptionally bright and young globular star clusters.\\n\\nThe visible light image was taken with the Wide Field and Planetary Camera (WFPC) in PC mode, on October 10, 1992. The image has been subject to computer image reconstruction. The strong spiral structure is 10,000 light-years across (3.5 arc seconds); the entire picture is 46,000 light-years across. Hubble\\'s resolution is so good the astronomers can measure the diameters of the clusters (0.04 arc seconds, the apparent size of a dime at a distance of 60 miles). They turn out to be about 60 light-years in diameter, the same size as globular clusters that orbit our Milky Way galaxy.\\n\\nThe pinwheel-shaped disk of gas and young stars has an uncanny resemblance to a face-on spiral galaxy. Yet the disk is only 1/20 the diameter of the total galaxy. The disk was probably fueled by the collision.',\n",
       " 'credits': 'Left Credit: Dr. Francois Schweizer, taken with 4-meter telescope at the Cerro Tololo Inter-American Observatory.\\n\\nRight Credit: B. Whitmore (<a href=\"http://www.stsci.edu/\">STScI</a>), and <a href=\"http://www.nasa.gov/\">NASA</a>\\n\\nCo-investigators: Francois Schweizer of the Carnegie Institution of Washington, Washington, D.C., and Claus Leitherer, Kirk Borne, and Carmelle Robert of <a href=\"http://www.stsci.edu/\">STScI</a>.',\n",
       " 'news_name': 'a',\n",
       " 'mission': 'hubble',\n",
       " 'collection': 'news',\n",
       " 'image_files': [{'file_url': 'https://media.stsci.edu/uploads/image_file/image_attachment/654/mini_thumb.jpg',\n",
       "   'file_size': 705,\n",
       "   'width': 40,\n",
       "   'height': 40},\n",
       "  {'file_url': 'https://media.stsci.edu/uploads/image_file/image_attachment/656/thumb.jpg',\n",
       "   'file_size': 1513,\n",
       "   'width': 80,\n",
       "   'height': 80},\n",
       "  {'file_url': 'https://media.stsci.edu/uploads/image_file/image_attachment/655/small_web.jpg',\n",
       "   'file_size': 4468,\n",
       "   'width': 200,\n",
       "   'height': 200},\n",
       "  {'file_url': 'https://media.stsci.edu/uploads/image_file/image_attachment/657/web.jpg',\n",
       "   'file_size': 17180,\n",
       "   'width': 279,\n",
       "   'height': 210},\n",
       "  {'file_url': 'https://media.stsci.edu/uploads/image_file/image_attachment/652/full_jpg.jpg',\n",
       "   'file_size': 192851,\n",
       "   'width': 2323,\n",
       "   'height': 1754},\n",
       "  {'file_url': 'https://media.stsci.edu/uploads/image_file/image_attachment/653/full_tif.tif',\n",
       "   'file_size': 2174648,\n",
       "   'width': 2323,\n",
       "   'height': 1754}],\n",
       " 'id': 100,\n",
       " 'shape': [1754, 2323, 3]}"
      ]
     },
     "execution_count": 15,
     "metadata": {},
     "output_type": "execute_result"
    }
   ],
   "source": [
    "metas[100]"
   ]
  },
  {
   "cell_type": "code",
   "execution_count": 10,
   "metadata": {},
   "outputs": [],
   "source": [
    "with open('./labels.json', 'r', encoding='utf8') as lf:\n",
    "    labels = json.load(lf)"
   ]
  },
  {
   "cell_type": "code",
   "execution_count": 12,
   "metadata": {},
   "outputs": [],
   "source": [
    "from collections import Counter"
   ]
  },
  {
   "cell_type": "code",
   "execution_count": 13,
   "metadata": {},
   "outputs": [
    {
     "data": {
      "text/plain": [
       "Counter({'space': 2050, 'planet': 287, 'galaxy': 984, 'star': 829})"
      ]
     },
     "execution_count": 13,
     "metadata": {},
     "output_type": "execute_result"
    }
   ],
   "source": [
    "Counter(labels.values())"
   ]
  },
  {
   "cell_type": "code",
   "execution_count": null,
   "metadata": {},
   "outputs": [],
   "source": [
    "import random\n",
    "\n",
    "counter = 0\n",
    "while counter < 20:\n",
    "    iid, label = random.choice(list(labels.items()))\n",
    "    iid = int(iid)\n",
    "    if 'is_good' in metas[iid] and metas[iid]['is_good'] == '1':\n",
    "        figure(figsize=(10, 10))\n",
    "        im = imread('./hubble/jpgs/{}.jpg'.format(iid))\n",
    "        imshow(im)\n",
    "        title(label)\n",
    "        counter += 1"
   ]
  },
  {
   "cell_type": "code",
   "execution_count": null,
   "metadata": {},
   "outputs": [],
   "source": []
  }
 ],
 "metadata": {
  "kernelspec": {
   "display_name": "Python 3",
   "language": "python",
   "name": "python3"
  },
  "language_info": {
   "codemirror_mode": {
    "name": "ipython",
    "version": 3
   },
   "file_extension": ".py",
   "mimetype": "text/x-python",
   "name": "python",
   "nbconvert_exporter": "python",
   "pygments_lexer": "ipython3",
   "version": "3.6.6"
  }
 },
 "nbformat": 4,
 "nbformat_minor": 2
}

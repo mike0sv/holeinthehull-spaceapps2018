{
 "cells": [
  {
   "cell_type": "code",
   "execution_count": 3,
   "metadata": {},
   "outputs": [],
   "source": [
    "import requests, json"
   ]
  },
  {
   "cell_type": "code",
   "execution_count": 35,
   "metadata": {},
   "outputs": [
    {
     "data": {
      "text/plain": [
       "b'{\"QueryTime\": \"Sun Oct 21 02:54:17 2018\", \"Copyright\": \"(C) 2018 California Institute of Technology\", \"StatusCode\": 100, \"Version\": \"2.0\", \"Interpreted\": {\"Aliases\": [\"UMa GROUP\", \"URSA MAJOR dSph\", \"URSA MAJOR I DWARF\", \"URSA MAJOR II DWARF\"]}, \"Supplied\": \"Ursa Major\", \"NameResolver\": \"NED-Egret\", \"ResultCode\": 1}\\n'"
      ]
     },
     "execution_count": 35,
     "metadata": {},
     "output_type": "execute_result"
    }
   ],
   "source": [
    "api_url = 'https://ned.ipac.caltech.edu/srs/ObjectLookup'\n",
    "\n",
    "r = requests.post(\n",
    "    url = api_url,\n",
    "    data = 'json={\"name\":{\"v\":\"Ursa Major\"}}'\n",
    ")\n",
    "\n",
    "r.content"
   ]
  },
  {
   "cell_type": "code",
   "execution_count": 93,
   "metadata": {},
   "outputs": [
    {
     "name": "stdout",
     "output_type": "stream",
     "text": [
      "A String of 'Cosmic Pearls' Surrounds an Exploding Star \n",
      "Two decades ago, astronomers spotted one of the brightest exploding stars in more than 400 years.\r\n",
      "\r\n",
      "Since that first sighting, the doomed star, called Supernova 1987A, has continued to fascinate astronomers with its spectacular light show. NASA's Hubble Space Telescope is one of many observatories that has been monitoring the blast's aftermath.\r\n",
      "\r\n",
      "This image shows the entire region around the supernova. The most prominent feature in the image is a ring with dozens of bright spots. A shock wave of material unleashed by the stellar blast is slamming into regions along the ring's inner regions, heating them up, and causing them to glow. The ring, about a light-year across, was probably shed by the star about 20,000 years before it exploded.\r\n",
      "\r\n",
      "Astronomers detected the first bright spot in 1997, but now they see dozens of spots around the ring. Only Hubble can see the individual bright spots. In the next few years, the entire ring will be ablaze as it absorbs the full force of the crash. The glowing ring is expected to become bright enough to illuminate the star's surroundings, providing astronomers with new information on how the star expelled material before the explosion.\r\n",
      "\r\n",
      "The pink object in the center of the ring is debris from the supernova blast. The glowing debris is being heated by radioactive elements, principally titanium 44, created in the explosion. The debris will continue to glow for many decades.\r\n",
      "\r\n",
      "The origin of a pair of faint outer red rings, located above and below the doomed star, is a mystery. The two bright objects that look like car headlights are a pair of stars in the Large Magellanic Cloud. The supernova is located 163,000 light-years away in the Large Magellanic Cloud.\r\n",
      "\r\n",
      "The image was taken in December 2006 with Hubble's Advanced Camera for Surveys.\n"
     ]
    }
   ],
   "source": [
    "with open('../hubble/meta/2060.json', 'r', encoding='utf8') as file:\n",
    "    meta = json.load(file)\n",
    "    print(meta['name'])\n",
    "    print(meta['description'])"
   ]
  },
  {
   "cell_type": "code",
   "execution_count": 42,
   "metadata": {},
   "outputs": [
    {
     "name": "stdout",
     "output_type": "stream",
     "text": [
      "Collecting astroquery\n",
      "\u001b[?25l  Downloading https://files.pythonhosted.org/packages/19/26/be48941894286e81dde01b025897950b2c03fe05d5a7fa03ff5c87499e5d/astroquery-0.3.8.tar.gz (3.2MB)\n",
      "\u001b[K    100% |################################| 3.2MB 6.7MB/s ta 0:00:011\n",
      "\u001b[?25hCollecting astropy>=1.0 (from astroquery)\n",
      "\u001b[?25l  Downloading https://files.pythonhosted.org/packages/26/6f/d6993ad4dde9cfa7c51f9be218739302e1f01b5e1df2b59853084b26c439/astropy-3.0.5-cp36-cp36m-manylinux1_x86_64.whl (6.0MB)\n",
      "\u001b[K    100% |################################| 6.0MB 3.9MB/s ta 0:00:01\n",
      "\u001b[?25hRequirement already satisfied: requests>=2.4.3 in /home/mike/miniconda3/lib/python3.6/site-packages (from astroquery) (2.19.1)\n",
      "Collecting keyring>=4.0 (from astroquery)\n",
      "  Downloading https://files.pythonhosted.org/packages/6c/3f/7a3f780dfa9ee5708507090ce15d6707aded2865f9e6999f48fa88b65bf3/keyring-15.1.0-py2.py3-none-any.whl\n",
      "Collecting beautifulsoup4>=4.3.2 (from astroquery)\n",
      "\u001b[?25l  Downloading https://files.pythonhosted.org/packages/21/0a/47fdf541c97fd9b6a610cb5fd518175308a7cc60569962e776ac52420387/beautifulsoup4-4.6.3-py3-none-any.whl (90kB)\n",
      "\u001b[K    100% |################################| 92kB 9.4MB/s eta 0:00:01\n",
      "\u001b[?25hCollecting html5lib>=0.999 (from astroquery)\n",
      "\u001b[?25l  Downloading https://files.pythonhosted.org/packages/a5/62/bbd2be0e7943ec8504b517e62bab011b4946e1258842bc159e5dfde15b96/html5lib-1.0.1-py2.py3-none-any.whl (117kB)\n",
      "\u001b[K    100% |################################| 122kB 13.2MB/s ta 0:00:01\n",
      "\u001b[?25hRequirement already satisfied: numpy>=1.10.0 in /home/mike/miniconda3/lib/python3.6/site-packages (from astropy>=1.0->astroquery) (1.15.2)\n",
      "Requirement already satisfied: chardet<3.1.0,>=3.0.2 in /home/mike/miniconda3/lib/python3.6/site-packages (from requests>=2.4.3->astroquery) (3.0.4)\n",
      "Requirement already satisfied: certifi>=2017.4.17 in /home/mike/miniconda3/lib/python3.6/site-packages (from requests>=2.4.3->astroquery) (2018.10.15)\n",
      "Requirement already satisfied: urllib3<1.24,>=1.21.1 in /home/mike/miniconda3/lib/python3.6/site-packages (from requests>=2.4.3->astroquery) (1.23)\n",
      "Requirement already satisfied: idna<2.8,>=2.5 in /home/mike/miniconda3/lib/python3.6/site-packages (from requests>=2.4.3->astroquery) (2.7)\n",
      "Collecting secretstorage; sys_platform == \"linux\" and python_version >= \"3.5\" (from keyring>=4.0->astroquery)\n",
      "  Downloading https://files.pythonhosted.org/packages/d8/e8/80975fd281764c80b2eb581a7f25d2109786e273b8925e8161bd2d06d10a/SecretStorage-3.1.0-py3-none-any.whl\n",
      "Requirement already satisfied: entrypoints in /home/mike/miniconda3/lib/python3.6/site-packages (from keyring>=4.0->astroquery) (0.2.3)\n",
      "Requirement already satisfied: webencodings in /home/mike/miniconda3/lib/python3.6/site-packages (from html5lib>=0.999->astroquery) (0.5.1)\n",
      "Requirement already satisfied: six>=1.9 in /home/mike/miniconda3/lib/python3.6/site-packages (from html5lib>=0.999->astroquery) (1.11.0)\n",
      "Requirement already satisfied: cryptography in /home/mike/miniconda3/lib/python3.6/site-packages (from secretstorage; sys_platform == \"linux\" and python_version >= \"3.5\"->keyring>=4.0->astroquery) (2.3.1)\n",
      "Collecting jeepney (from secretstorage; sys_platform == \"linux\" and python_version >= \"3.5\"->keyring>=4.0->astroquery)\n",
      "\u001b[?25l  Downloading https://files.pythonhosted.org/packages/2b/f7/ff23b9b59534f501d47c327576aadda59da5b83d76ff837e6075bc325b9f/jeepney-0.4-py3-none-any.whl (59kB)\n",
      "\u001b[K    100% |################################| 61kB 9.0MB/s eta 0:00:01\n",
      "\u001b[?25hRequirement already satisfied: asn1crypto>=0.21.0 in /home/mike/miniconda3/lib/python3.6/site-packages (from cryptography->secretstorage; sys_platform == \"linux\" and python_version >= \"3.5\"->keyring>=4.0->astroquery) (0.24.0)\n",
      "Requirement already satisfied: cffi!=1.11.3,>=1.7 in /home/mike/miniconda3/lib/python3.6/site-packages (from cryptography->secretstorage; sys_platform == \"linux\" and python_version >= \"3.5\"->keyring>=4.0->astroquery) (1.11.5)\n",
      "Requirement already satisfied: pycparser in /home/mike/miniconda3/lib/python3.6/site-packages (from cffi!=1.11.3,>=1.7->cryptography->secretstorage; sys_platform == \"linux\" and python_version >= \"3.5\"->keyring>=4.0->astroquery) (2.19)\n",
      "Building wheels for collected packages: astroquery\n",
      "  Running setup.py bdist_wheel for astroquery ... \u001b[?25ldone\n",
      "\u001b[?25h  Stored in directory: /home/mike/.cache/pip/wheels/3d/26/3e/8accf8cd6042ff785434baaa05ba6a444c08bc115c27973a1a\n",
      "Successfully built astroquery\n",
      "Installing collected packages: astropy, jeepney, secretstorage, keyring, beautifulsoup4, html5lib, astroquery\n",
      "Successfully installed astropy-3.0.5 astroquery-0.3.8 beautifulsoup4-4.6.3 html5lib-1.0.1 jeepney-0.4 keyring-15.1.0 secretstorage-3.1.0\n",
      "\u001b[33mYou are using pip version 10.0.1, however version 18.1 is available.\n",
      "You should consider upgrading via the 'pip install --upgrade pip' command.\u001b[0m\n"
     ]
    }
   ],
   "source": [
    "!pip install astroquery"
   ]
  },
  {
   "cell_type": "code",
   "execution_count": 59,
   "metadata": {},
   "outputs": [
    {
     "data": {
      "text/plain": [
       "astropy.table.table.Table"
      ]
     },
     "execution_count": 59,
     "metadata": {},
     "output_type": "execute_result"
    }
   ],
   "source": [
    "from astroquery.simbad import Simbad\n",
    "Simbad.add_votable_fields('diameter')\n",
    "Simbad.add_votable_fields('distance')\n",
    "Simbad.add_votable_fields('otype')\n",
    "type(Simbad.query_object(\"lmc\"))"
   ]
  },
  {
   "cell_type": "code",
   "execution_count": 60,
   "metadata": {},
   "outputs": [
    {
     "data": {
      "text/plain": [
       "astropy.table.table.Table"
      ]
     },
     "execution_count": 60,
     "metadata": {},
     "output_type": "execute_result"
    }
   ],
   "source": [
    "type(Simbad.query_object(\"lmc\"))"
   ]
  },
  {
   "cell_type": "code",
   "execution_count": 48,
   "metadata": {},
   "outputs": [
    {
     "name": "stdout",
     "output_type": "stream",
     "text": [
      "--NOTES--\n",
      "\n",
      "1. The parameter filtername must correspond to an existing filter. Filters include: B,V,R,I,J,K.  They are checked by SIMBAD but not astroquery.simbad\n",
      "\n",
      "2. Fields beginning with rvz display the data as it is in the database. Fields beginning with rv force the display as a radial velocity. Fields beginning with z force the display as a redshift\n",
      "\n",
      "3. For each measurement catalog, the VOTable contains all fields of the first measurement. When applicable, the first measurement is the mean one. \n",
      "\n",
      "Available VOTABLE fields:\n",
      "\n",
      "bibcodelist(y1-y2)\n",
      "cel\n",
      "cl.g\n",
      "coo(opt)\n",
      "coo_bibcode\n",
      "coo_err_angle\n",
      "coo_err_maja\n",
      "coo_err_mina\n",
      "coo_qual\n",
      "coo_wavelength\n",
      "coordinates\n",
      "dec(opt)\n",
      "dec_prec\n",
      "diameter\n",
      "dim\n",
      "dim_angle\n",
      "dim_bibcode\n",
      "dim_incl\n",
      "dim_majaxis\n",
      "dim_minaxis\n",
      "dim_qual\n",
      "dim_wavelength\n",
      "dimensions\n",
      "dist\n",
      "distance\n",
      "einstein\n",
      "fe_h\n",
      "flux(filtername)\n",
      "flux_bibcode(filtername)\n",
      "flux_error(filtername)\n",
      "flux_name(filtername)\n",
      "flux_qual(filtername)\n",
      "flux_system(filtername)\n",
      "flux_unit(filtername)\n",
      "fluxdata(filtername)\n",
      "gcrv\n",
      "gen\n",
      "gj\n",
      "hbet\n",
      "hbet1\n",
      "hgam\n",
      "id(opt)\n",
      "ids\n",
      "iras\n",
      "irc\n",
      "iso\n",
      "iue\n",
      "jp11\n",
      "main_id\n",
      "measurements\n",
      "mesplx\n",
      "mespm\n",
      "mk\n",
      "morphtype\n",
      "mt\n",
      "mt_bibcode\n",
      "mt_qual\n",
      "orv\n",
      "otype\n",
      "otype(opt)\n",
      "parallax\n",
      "plx\n",
      "plx_bibcode\n",
      "plx_error\n",
      "plx_prec\n",
      "plx_qual\n",
      "pm\n",
      "pm_bibcode\n",
      "pm_err_angle\n",
      "pm_err_maja\n",
      "pm_err_mina\n",
      "pm_qual\n",
      "pmdec\n",
      "pmdec_prec\n",
      "pmra\n",
      "pmra_prec\n",
      "pos\n",
      "posa\n",
      "propermotions\n",
      "ra(opt)\n",
      "ra_prec\n",
      "rot\n",
      "rv_value\n",
      "rvel\n",
      "rvz_bibcode\n",
      "rvz_error\n",
      "rvz_qual\n",
      "rvz_radvel\n",
      "rvz_type\n",
      "rvz_wavelength\n",
      "sao\n",
      "sp\n",
      "sp_bibcode\n",
      "sp_nature\n",
      "sp_qual\n",
      "sptype\n",
      "td1\n",
      "ubv\n",
      "uvby\n",
      "uvby1\n",
      "v*\n",
      "velocity\n",
      "xmm\n",
      "z\n",
      "z_value\n",
      "ze\n",
      "For more information on a field:\n",
      "Simbad.get_field_description ('field_name') \n",
      "Currently active VOTABLE fields:\n",
      " ['main_id', 'coordinates']\n"
     ]
    }
   ],
   "source": [
    "Simbad.list_votable_fields()"
   ]
  },
  {
   "cell_type": "code",
   "execution_count": 57,
   "metadata": {},
   "outputs": [
    {
     "name": "stdout",
     "output_type": "stream",
     "text": [
      "standard name of the object type\n"
     ]
    }
   ],
   "source": [
    "Simbad.get_field_description('otype')"
   ]
  },
  {
   "cell_type": "code",
   "execution_count": 49,
   "metadata": {},
   "outputs": [],
   "source": [
    "?Simbad.add_votable_fields"
   ]
  },
  {
   "cell_type": "code",
   "execution_count": 61,
   "metadata": {},
   "outputs": [
    {
     "name": "stdout",
     "output_type": "stream",
     "text": [
      "Collecting spacy\n",
      "\u001b[?25l  Downloading https://files.pythonhosted.org/packages/ed/39/288640f591b29aac6996c97ddfafc3262ae0be7513e06bc560921b112d7c/spacy-2.0.16-cp36-cp36m-manylinux1_x86_64.whl (23.3MB)\n",
      "\u001b[K    100% |################################| 23.3MB 2.9MB/s ta 0:00:011    95% |##############################  | 22.2MB 8.8MB/s eta 0:00:01\n",
      "\u001b[?25hRequirement not upgraded as not directly required: numpy>=1.15.0 in /home/mike/miniconda3/lib/python3.6/site-packages (from spacy) (1.15.2)\n",
      "Collecting msgpack-numpy<0.4.4 (from spacy)\n",
      "  Downloading https://files.pythonhosted.org/packages/ad/45/464be6da85b5ca893cfcbd5de3b31a6710f636ccb8521b17bd4110a08d94/msgpack_numpy-0.4.3.2-py2.py3-none-any.whl\n",
      "Collecting plac<1.0.0,>=0.9.6 (from spacy)\n",
      "  Downloading https://files.pythonhosted.org/packages/9e/9b/62c60d2f5bc135d2aa1d8c8a86aaf84edb719a59c7f11a4316259e61a298/plac-0.9.6-py2.py3-none-any.whl\n",
      "Collecting preshed<2.1.0,>=2.0.1 (from spacy)\n",
      "\u001b[?25l  Downloading https://files.pythonhosted.org/packages/20/93/f222fb957764a283203525ef20e62008675fd0a14ffff8cc1b1490147c63/preshed-2.0.1-cp36-cp36m-manylinux1_x86_64.whl (83kB)\n",
      "\u001b[K    100% |################################| 92kB 12.4MB/s ta 0:00:01\n",
      "\u001b[?25hCollecting thinc<6.13.0,>=6.12.0 (from spacy)\n",
      "\u001b[?25l  Downloading https://files.pythonhosted.org/packages/1f/18/e320bfc57c20df39cc5ffa1915c7b5402a9038f290ddd85b5b72689bd57a/thinc-6.12.0-cp36-cp36m-manylinux1_x86_64.whl (1.9MB)\n",
      "\u001b[K    100% |################################| 1.9MB 7.0MB/s ta 0:00:011\n",
      "\u001b[?25hCollecting ujson>=1.35 (from spacy)\n",
      "\u001b[?25l  Downloading https://files.pythonhosted.org/packages/16/c4/79f3409bc710559015464e5f49b9879430d8f87498ecdc335899732e5377/ujson-1.35.tar.gz (192kB)\n",
      "\u001b[K    100% |################################| 194kB 5.5MB/s ta 0:00:011\n",
      "\u001b[?25hCollecting murmurhash<1.1.0,>=0.28.0 (from spacy)\n",
      "  Downloading https://files.pythonhosted.org/packages/38/40/6b39438f7eefbb46460f645b8eefebc0c5f1cd38a934a2189c39d8bd0225/murmurhash-1.0.1-cp36-cp36m-manylinux1_x86_64.whl\n",
      "Collecting regex==2018.01.10 (from spacy)\n",
      "\u001b[?25l  Downloading https://files.pythonhosted.org/packages/76/f4/7146c3812f96fcaaf2d06ff6862582302626a59011ccb6f2833bb38d80f7/regex-2018.01.10.tar.gz (612kB)\n",
      "\u001b[K    100% |################################| 614kB 5.2MB/s ta 0:00:011\n",
      "\u001b[?25hCollecting cymem<2.1.0,>=2.0.2 (from spacy)\n",
      "  Downloading https://files.pythonhosted.org/packages/3d/61/9b0520c28eb199a4b1ca667d96dd625bba003c14c75230195f9691975f85/cymem-2.0.2-cp36-cp36m-manylinux1_x86_64.whl\n",
      "Requirement not upgraded as not directly required: requests<3.0.0,>=2.13.0 in /home/mike/miniconda3/lib/python3.6/site-packages (from spacy) (2.19.1)\n",
      "Collecting dill<0.3,>=0.2 (from spacy)\n",
      "\u001b[?25l  Downloading https://files.pythonhosted.org/packages/6f/78/8b96476f4ae426db71c6e86a8e6a81407f015b34547e442291cd397b18f3/dill-0.2.8.2.tar.gz (150kB)\n",
      "\u001b[K    100% |################################| 153kB 13.2MB/s ta 0:00:01\n",
      "\u001b[?25hCollecting msgpack>=0.3.0 (from msgpack-numpy<0.4.4->spacy)\n",
      "\u001b[?25l  Downloading https://files.pythonhosted.org/packages/22/4e/dcf124fd97e5f5611123d6ad9f40ffd6eb979d1efdc1049e28a795672fcd/msgpack-0.5.6-cp36-cp36m-manylinux1_x86_64.whl (315kB)\n",
      "\u001b[K    100% |################################| 317kB 12.5MB/s ta 0:00:01\n",
      "\u001b[?25hRequirement not upgraded as not directly required: tqdm<5.0.0,>=4.10.0 in /home/mike/miniconda3/lib/python3.6/site-packages (from thinc<6.13.0,>=6.12.0->spacy) (4.26.0)\n",
      "Collecting wrapt<1.11.0,>=1.10.0 (from thinc<6.13.0,>=6.12.0->spacy)\n",
      "  Downloading https://files.pythonhosted.org/packages/a0/47/66897906448185fcb77fc3c2b1bc20ed0ecca81a0f2f88eda3fc5a34fc3d/wrapt-1.10.11.tar.gz\n",
      "Requirement not upgraded as not directly required: six<2.0.0,>=1.10.0 in /home/mike/miniconda3/lib/python3.6/site-packages (from thinc<6.13.0,>=6.12.0->spacy) (1.11.0)\n",
      "Collecting cytoolz<0.10,>=0.9.0 (from thinc<6.13.0,>=6.12.0->spacy)\n",
      "\u001b[?25l  Downloading https://files.pythonhosted.org/packages/36/f4/9728ba01ccb2f55df9a5af029b48ba0aaca1081bbd7823ea2ee223ba7a42/cytoolz-0.9.0.1.tar.gz (443kB)\n",
      "\u001b[K    100% |################################| 450kB 5.4MB/s ta 0:00:011\n",
      "\u001b[?25hRequirement not upgraded as not directly required: certifi>=2017.4.17 in /home/mike/miniconda3/lib/python3.6/site-packages (from requests<3.0.0,>=2.13.0->spacy) (2018.10.15)\n",
      "Requirement not upgraded as not directly required: idna<2.8,>=2.5 in /home/mike/miniconda3/lib/python3.6/site-packages (from requests<3.0.0,>=2.13.0->spacy) (2.7)\n",
      "Requirement not upgraded as not directly required: chardet<3.1.0,>=3.0.2 in /home/mike/miniconda3/lib/python3.6/site-packages (from requests<3.0.0,>=2.13.0->spacy) (3.0.4)\n",
      "Requirement not upgraded as not directly required: urllib3<1.24,>=1.21.1 in /home/mike/miniconda3/lib/python3.6/site-packages (from requests<3.0.0,>=2.13.0->spacy) (1.23)\n",
      "Requirement not upgraded as not directly required: toolz>=0.8.0 in /home/mike/miniconda3/lib/python3.6/site-packages (from cytoolz<0.10,>=0.9.0->thinc<6.13.0,>=6.12.0->spacy) (0.9.0)\n",
      "Building wheels for collected packages: ujson, regex, dill, wrapt, cytoolz\n",
      "  Running setup.py bdist_wheel for ujson ... \u001b[?25ldone\n",
      "\u001b[?25h  Stored in directory: /home/mike/.cache/pip/wheels/28/77/e4/0311145b9c2e2f01470e744855131f9e34d6919687550f87d1\n",
      "  Running setup.py bdist_wheel for regex ... \u001b[?25ldone\n",
      "\u001b[?25h  Stored in directory: /home/mike/.cache/pip/wheels/74/17/3f/c77bba99efd74ba1a19862c9dd97f4b6d735e2826721dc00ff\n",
      "  Running setup.py bdist_wheel for dill ... \u001b[?25ldone\n",
      "\u001b[?25h  Stored in directory: /home/mike/.cache/pip/wheels/e2/5d/17/f87cb7751896ac629b435a8696f83ee75b11029f5d6f6bda72\n",
      "  Running setup.py bdist_wheel for wrapt ... \u001b[?25ldone\n",
      "\u001b[?25h  Stored in directory: /home/mike/.cache/pip/wheels/48/5d/04/22361a593e70d23b1f7746d932802efe1f0e523376a74f321e\n",
      "  Running setup.py bdist_wheel for cytoolz ... \u001b[?25ldone\n",
      "\u001b[?25h  Stored in directory: /home/mike/.cache/pip/wheels/88/f3/11/9817b001e59ab04889e8cffcbd9087e2e2155b9ebecfc8dd38\n",
      "Successfully built ujson regex dill wrapt cytoolz\n",
      "Installing collected packages: msgpack, msgpack-numpy, plac, cymem, preshed, wrapt, cytoolz, murmurhash, dill, thinc, ujson, regex, spacy\n",
      "Successfully installed cymem-2.0.2 cytoolz-0.9.0.1 dill-0.2.8.2 msgpack-0.5.6 msgpack-numpy-0.4.3.2 murmurhash-1.0.1 plac-0.9.6 preshed-2.0.1 regex-2018.1.10 spacy-2.0.16 thinc-6.12.0 ujson-1.35 wrapt-1.10.11\n",
      "\u001b[33mYou are using pip version 10.0.1, however version 18.1 is available.\n",
      "You should consider upgrading via the 'pip install --upgrade pip' command.\u001b[0m\n",
      "Collecting en_core_web_sm==2.0.0 from https://github.com/explosion/spacy-models/releases/download/en_core_web_sm-2.0.0/en_core_web_sm-2.0.0.tar.gz#egg=en_core_web_sm==2.0.0\n",
      "\u001b[?25l  Downloading https://github.com/explosion/spacy-models/releases/download/en_core_web_sm-2.0.0/en_core_web_sm-2.0.0.tar.gz (37.4MB)\n",
      "\u001b[K    100% |################################| 37.4MB 734kB/s ta 0:00:011\n",
      "\u001b[?25hInstalling collected packages: en-core-web-sm\n",
      "  Running setup.py install for en-core-web-sm ... \u001b[?25ldone\n",
      "\u001b[?25hSuccessfully installed en-core-web-sm-2.0.0\n",
      "\u001b[33mYou are using pip version 10.0.1, however version 18.1 is available.\n",
      "You should consider upgrading via the 'pip install --upgrade pip' command.\u001b[0m\n",
      "\n",
      "\u001b[93m    Linking successful\u001b[0m\n",
      "    /home/mike/miniconda3/lib/python3.6/site-packages/en_core_web_sm -->\n",
      "    /home/mike/miniconda3/lib/python3.6/site-packages/spacy/data/en\n",
      "\n",
      "    You can now load the model via spacy.load('en')\n",
      "\n"
     ]
    }
   ],
   "source": [
    "# How to extract entities?\n",
    "\n",
    "!pip install -U spacy\n",
    "!python -m spacy download en"
   ]
  },
  {
   "cell_type": "code",
   "execution_count": 66,
   "metadata": {},
   "outputs": [
    {
     "name": "stdout",
     "output_type": "stream",
     "text": [
      "Collecting xx_ent_wiki_sm==2.0.0 from https://github.com/explosion/spacy-models/releases/download/xx_ent_wiki_sm-2.0.0/xx_ent_wiki_sm-2.0.0.tar.gz#egg=xx_ent_wiki_sm==2.0.0\n",
      "\u001b[?25l  Downloading https://github.com/explosion/spacy-models/releases/download/xx_ent_wiki_sm-2.0.0/xx_ent_wiki_sm-2.0.0.tar.gz (32.6MB)\n",
      "\u001b[K    100% |################################| 32.6MB 3.1MB/s ta 0:00:012\n",
      "\u001b[?25hInstalling collected packages: xx-ent-wiki-sm\n",
      "  Running setup.py install for xx-ent-wiki-sm ... \u001b[?25ldone\n",
      "\u001b[?25hSuccessfully installed xx-ent-wiki-sm-2.0.0\n",
      "\u001b[33mYou are using pip version 10.0.1, however version 18.1 is available.\n",
      "You should consider upgrading via the 'pip install --upgrade pip' command.\u001b[0m\n",
      "\n",
      "\u001b[93m    Linking successful\u001b[0m\n",
      "    /home/mike/miniconda3/lib/python3.6/site-packages/xx_ent_wiki_sm -->\n",
      "    /home/mike/miniconda3/lib/python3.6/site-packages/spacy/data/xx\n",
      "\n",
      "    You can now load the model via spacy.load('xx')\n",
      "\n"
     ]
    }
   ],
   "source": [
    "!python -m spacy download xx"
   ]
  },
  {
   "cell_type": "code",
   "execution_count": 62,
   "metadata": {},
   "outputs": [],
   "source": [
    "import spacy"
   ]
  },
  {
   "cell_type": "code",
   "execution_count": 73,
   "metadata": {},
   "outputs": [],
   "source": [
    "nlp = spacy.load('en')"
   ]
  },
  {
   "cell_type": "code",
   "execution_count": 99,
   "metadata": {},
   "outputs": [
    {
     "data": {
      "text/plain": [
       "{'name': \"A String of 'Cosmic Pearls' Surrounds an Exploding Star \",\n",
       " 'description': \"Two decades ago, astronomers spotted one of the brightest exploding stars in more than 400 years.\\r\\n\\r\\nSince that first sighting, the doomed star, called Supernova 1987A, has continued to fascinate astronomers with its spectacular light show. NASA's Hubble Space Telescope is one of many observatories that has been monitoring the blast's aftermath.\\r\\n\\r\\nThis image shows the entire region around the supernova. The most prominent feature in the image is a ring with dozens of bright spots. A shock wave of material unleashed by the stellar blast is slamming into regions along the ring's inner regions, heating them up, and causing them to glow. The ring, about a light-year across, was probably shed by the star about 20,000 years before it exploded.\\r\\n\\r\\nAstronomers detected the first bright spot in 1997, but now they see dozens of spots around the ring. Only Hubble can see the individual bright spots. In the next few years, the entire ring will be ablaze as it absorbs the full force of the crash. The glowing ring is expected to become bright enough to illuminate the star's surroundings, providing astronomers with new information on how the star expelled material before the explosion.\\r\\n\\r\\nThe pink object in the center of the ring is debris from the supernova blast. The glowing debris is being heated by radioactive elements, principally titanium 44, created in the explosion. The debris will continue to glow for many decades.\\r\\n\\r\\nThe origin of a pair of faint outer red rings, located above and below the doomed star, is a mystery. The two bright objects that look like car headlights are a pair of stars in the Large Magellanic Cloud. The supernova is located 163,000 light-years away in the Large Magellanic Cloud.\\r\\n\\r\\nThe image was taken in December 2006 with Hubble's Advanced Camera for Surveys.\",\n",
       " 'credits': '<a href=\"http://www.nasa.gov/\">NASA</a>, <a href=\"http://www.spacetelescope.org/\">ESA</a>, P. Challis and R. Kirshner (Harvard-Smithsonian Center for Astrophysics)',\n",
       " 'news_name': 'a',\n",
       " 'mission': 'hubble',\n",
       " 'collection': 'news',\n",
       " 'image_files': [{'file_url': 'https://media.stsci.edu/uploads/image_file/image_attachment/14764/mini_thumb.jpg',\n",
       "   'file_size': 681,\n",
       "   'width': 40,\n",
       "   'height': 40},\n",
       "  {'file_url': 'https://media.stsci.edu/uploads/image_file/image_attachment/14768/thumb.jpg',\n",
       "   'file_size': 3053,\n",
       "   'width': 80,\n",
       "   'height': 80},\n",
       "  {'file_url': 'https://media.stsci.edu/uploads/image_file/image_attachment/14767/small_web.jpg',\n",
       "   'file_size': 7778,\n",
       "   'width': 200,\n",
       "   'height': 200},\n",
       "  {'file_url': 'https://media.stsci.edu/uploads/image_file/image_attachment/14760/compass_web.jpg',\n",
       "   'file_size': 25227,\n",
       "   'width': 250,\n",
       "   'height': 196},\n",
       "  {'file_url': 'https://media.stsci.edu/uploads/image_file/image_attachment/14769/web.jpg',\n",
       "   'file_size': 20328,\n",
       "   'width': 400,\n",
       "   'height': 313},\n",
       "  {'file_url': 'https://media.stsci.edu/uploads/image_file/image_attachment/14759/compass_large_web.jpg',\n",
       "   'file_size': 62573,\n",
       "   'width': 500,\n",
       "   'height': 391},\n",
       "  {'file_url': 'https://media.stsci.edu/uploads/image_file/image_attachment/14765/pdf.pdf',\n",
       "   'file_size': 5442459,\n",
       "   'width': 612,\n",
       "   'height': 792},\n",
       "  {'file_url': 'https://media.stsci.edu/uploads/image_file/image_attachment/14763/large_web.jpg',\n",
       "   'file_size': 85398,\n",
       "   'width': 655,\n",
       "   'height': 512},\n",
       "  {'file_url': 'https://media.stsci.edu/uploads/image_file/image_attachment/14762/full_tif.tif',\n",
       "   'file_size': 373520,\n",
       "   'width': 655,\n",
       "   'height': 512},\n",
       "  {'file_url': 'https://media.stsci.edu/uploads/image_file/image_attachment/14761/full_jpg.jpg',\n",
       "   'file_size': 210757,\n",
       "   'width': 655,\n",
       "   'height': 512},\n",
       "  {'file_url': 'https://media.stsci.edu/uploads/image_file/image_attachment/14770/web_print.jpg',\n",
       "   'file_size': 89030,\n",
       "   'width': 1000,\n",
       "   'height': 800},\n",
       "  {'file_url': 'https://media.stsci.edu/uploads/image_file/image_attachment/14766/print.jpg',\n",
       "   'file_size': 504573,\n",
       "   'width': 3000,\n",
       "   'height': 2400}],\n",
       " 'id': 2060,\n",
       " 'shape': [2400, 3000, 3]}"
      ]
     },
     "execution_count": 99,
     "metadata": {},
     "output_type": "execute_result"
    }
   ],
   "source": [
    "with open('../hubble/meta/2060.json', 'r', encoding='utf8') as file:\n",
    "    meta = json.load(file)\n",
    "\n",
    "meta"
   ]
  },
  {
   "cell_type": "code",
   "execution_count": 69,
   "metadata": {},
   "outputs": [
    {
     "data": {
      "text/plain": [
       "Apple"
      ]
     },
     "execution_count": 69,
     "metadata": {},
     "output_type": "execute_result"
    }
   ],
   "source": [
    "doc[0]"
   ]
  }
 ],
 "metadata": {
  "kernelspec": {
   "display_name": "Python 3",
   "language": "python",
   "name": "python3"
  },
  "language_info": {
   "codemirror_mode": {
    "name": "ipython",
    "version": 3
   },
   "file_extension": ".py",
   "mimetype": "text/x-python",
   "name": "python",
   "nbconvert_exporter": "python",
   "pygments_lexer": "ipython3",
   "version": "3.6.6"
  }
 },
 "nbformat": 4,
 "nbformat_minor": 2
}

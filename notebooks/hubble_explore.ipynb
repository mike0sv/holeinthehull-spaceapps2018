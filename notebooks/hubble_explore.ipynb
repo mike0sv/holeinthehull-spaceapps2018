{
 "cells": [
  {
   "cell_type": "code",
   "execution_count": null,
   "metadata": {},
   "outputs": [],
   "source": [
    "%pylab inline"
   ]
  },
  {
   "cell_type": "code",
   "execution_count": null,
   "metadata": {},
   "outputs": [],
   "source": [
    "import glob\n",
    "import json"
   ]
  },
  {
   "cell_type": "code",
   "execution_count": 9,
   "metadata": {},
   "outputs": [
    {
     "name": "stdout",
     "output_type": "stream",
     "text": [
      "Starburst Cluster Shows Celestial Fireworks\n",
      "Like a July 4 fireworks display, a young, glittering collection of stars looks like an aerial burst. The cluster is surrounded by clouds of interstellar gas and dust – the raw material for new star formation. The nebula, located 20,000 light-years away in the constellation Carina, contains a central cluster of huge, hot stars, called NGC 3603.\r\n",
      "\r\n",
      "This environment is not as peaceful as it looks. Ultraviolet radiation and violent stellar winds have blown out an enormous cavity in the gas and dust enveloping the cluster, providing an unobstructed view of the cluster.\r\n",
      "\r\n",
      "Most of the stars in the cluster were born around the same time but differ in size, mass, temperature, and color. The course of a star's life is determined by its mass, so a cluster of a given age will contain stars in various stages of their lives, giving an opportunity for detailed analyses of stellar life cycles. NGC 3603 also contains some of the most massive stars known. These huge stars live fast and die young, burning through their hydrogen fuel quickly and ultimately ending their lives in supernova explosions.\r\n",
      "\r\n",
      "Star clusters like NGC 3603 provide important clues to understanding the origin of massive star formation in the early, distant universe. Astronomers also use massive clusters to study distant starbursts that occur when galaxies collide, igniting a flurry of star formation. The proximity of NGC 3603 makes it an excellent lab for studying such distant and momentous events.\r\n",
      "\r\n",
      "This Hubble Space Telescope image was captured in August 2009 and December 2009 with the Wide Field Camera 3 in both visible and infrared light, which trace the glow of sulfur, hydrogen, and iron.\n",
      "\n",
      "Hubble Captures a Fireworks Show in Kiso 5639\n",
      "In this NASA Hubble Space Telescope image, a firestorm of star birth is lighting up one end of the diminutive galaxy Kiso 5639. The dwarf galaxy is shaped like a flattened pancake, but because it is tilted edge-on, it resembles a skyrocket, with a brilliant blazing head and a long, star-studded tail.\r\n",
      "\r\n",
      "Kiso 5639 is a member of a class of galaxies called \"tadpoles\" because of their bright heads and elongated tails. This galaxy resides relatively nearby, at 82 million light-years away. Tadpoles are rare in the local universe but more common in the distant cosmos, suggesting that many galaxies pass through a phase like this as they evolve.\r\n",
      "\r\n",
      "Hubble observations of Kiso 5639 have uncovered the stellar content and bright pink glow of hydrogen at one end of the galaxy. A burst of new stars in a region measuring 2,700 light-years across makes the hydrogen clouds glow. The mass of these young stars equals about 1 million suns. The stars are grouped into large clusters that formed less than 1 million years ago.\r\n",
      "\r\n",
      "Stars consist mainly of hydrogen and helium, but cook up other \"heavier\" elements, such as oxygen and carbon. When the stars die, they release their heavy elements and enrich the surrounding gas. In Kiso 5639, the bright gas in the galaxy's head is more deficient in heavy elements than the rest of the galaxy. Astronomers, therefore, think that this new star-formation event was triggered when the galaxy accreted primordial gas from its surroundings, since intergalactic space contains more pristine, hydrogen-rich gas.\r\n",
      "\r\n",
      "The elongated tail, seen stretching away from the galaxy's head and scattered with bright blue stars, contains at least four distinct star-forming regions. These stars appear to be older than those in the star-forming head.\r\n",
      "\r\n",
      "Hubble also revealed giant holes peppered throughout the starburst end. These cavities give this area a Swiss-cheese appearance because numerous supernova detonations – like firework aerial bursts – have carved out holes of rarified superheated gas. Wispy filaments, comprising gas and some stars, extend away from the main body of the cosmic tadpole.\r\n",
      "\r\n",
      "The observations were taken in February 2015 and July 2015 with Hubble's Wide Field Camera 3.\n",
      "\n",
      "Elliptical Galaxy NCG 2768\n",
      "(((((((((\n",
      "\n",
      "Hubble ACS Image of NGC 4068\n",
      "(((((((((\n",
      "\n",
      "Oldest Star in Solar Neighborhood\n",
      "This is a Digitized Sky Survey image of the oldest star with a well-determined age in our galaxy. The aging star, cataloged as HD 140283, lies 190.1 light-years away. Hubble Space Telescope was used to narrow the measurement uncertainty on the star's distance, and this helped refine the calculation of a more precise age of 14.5 billion years (plus or minus 800 million years).\r\n",
      "\r\n",
      "The star is rapidly passing through our local stellar neighborhood. The star's orbit carries it through the plane of our galaxy from the galactic halo that has a population of ancient stars. The Anglo-Australian Observatory (AAO) UK Schmidt telescope photographed the star in blue light.\n",
      "\n",
      "Odd Galaxy Couple on Space Voyage\n",
      "Two very different galaxies drift through space together in this image taken by NASA's Hubble Space Telescope. The peculiar galaxy pair is called Arp 116.\r\n",
      "\r\n",
      "Arp 116 is composed of a giant elliptical galaxy known as Messier 60 (or M60) and a much smaller spiral galaxy, NGC 4647.\r\n",
      "\r\n",
      "M60 is the third brightest galaxy in the Virgo cluster of galaxies, a collection of more than 1,300 galaxies. M60 has a diameter of 120,000 light-years, and a mass of about one trillion times that of the Sun. A huge black hole of 4.5 billion solar masses lies at its center, one of the most massive black holes ever found.\r\n",
      "\r\n",
      "The faint bluish spiral galaxy NGC 4647 is about two-thirds of M60 in size and much lower in mass – roughly the size of our galaxy, the Milky Way.\r\n",
      "\r\n",
      "Astronomers have long tried to determine whether these two galaxies are actually interacting. Although looking at them from Earth they overlap, there is no evidence of new star formation, which would be one of the clearest signs that the two galaxies are indeed interacting. However, recent studies of very detailed Hubble images suggest the onset of some tidal interaction between the two.\r\n",
      "\r\n",
      "M60 lies roughly 54 million light-years away from Earth; NGC 4647 is about 63 million light-years away.\r\n",
      "\r\n",
      "This image combines exposures from Hubble's Advanced Camera for Surveys and Wide Field and Planetary Camera 2.\r\n",
      "\r\n",
      "For more information, contact:\r\n",
      "\r\n",
      "Ray Villard\r\n",
      " Space Telescope Science Institute, Baltimore, Md.\r\n",
      " 410-338-4514\r\n",
      " villard@stsci.edu\r\n",
      "\r\n",
      "Oli Usher\r\n",
      " Hubble/ESA\r\n",
      " Garching, Germany\r\n",
      " 011-49-89-3200-6855\r\n",
      " ousher@eso.org\n",
      "\n",
      "M101 Composite Image: Chandra Data (Blue Component)\n",
      "The blue color shows Chandra's view in X-ray light. Sources of X-rays include million-degree gas, exploded stars, and material colliding around black holes.\n",
      "\n",
      "2010 Hubble Fellowship Recipients\n",
      "Inaugurated in 1990, the Hubble Fellowship Program funds research opportunities for outstanding candidates selected in 2010 from more than 230 applicants. The 17 recipients of the 2010 Hubble Fellowship are:\n",
      "\n",
      " <table cellpadding=\"5\" border=\"0\"> <tbody> <tr> <td><strong>NAME</strong></td> <td><strong>PhD INSTITUTION</strong></td> <td><strong>HOST INSTITUTION</strong></td> </tr> <tr> <td>Joshua Carter</td> <td>MIT, 8/09</td> <td>SAO</td> </tr> <tr> <td>Caitlin Casey</td> <td>U Cambridge, 9/10</td> <td>IfA/UHI</td> </tr> <tr> <td>Michael Cooper</td> <td>UC Berkeley, 5/07</td> <td>UC Irvine</td> </tr> <tr> <td>Selma de Mink</td> <td>Utrecht U, 4/10</td> <td>STScI</td> </tr> <tr> <td>Trent Dupuy</td> <td>U Hawaii, 5/10</td> <td>SAO</td> </tr> <tr> <td>Daniel Fabrycky</td> <td>Princeton U, 8/07</td> <td>UC Santa Cruz</td> </tr> <tr> <td>Karoline Gilbert</td> <td>UC Santa Cruz, 6/08</td> <td>U Washington</td> </tr> <tr> <td>Henry Hsieh</td> <td>U Hawaii, 4/07</td> <td>IfA/UHI</td> </tr> <tr> <td>Ryan Keisler</td> <td>U Chicago, 8/10</td> <td>U Chicago</td> </tr> <tr> <td>Dusan Keres</td> <td>U Massachusetts, 5/07</td> <td>UC Berkeley</td> </tr> <tr> <td>Maryam Modjaz</td> <td>Harvard U, 6/07</td> <td>Columbia U</td> </tr> <tr> <td>Pascal Oesch</td> <td>ETH Zurich, 8/10</td> <td>UC Santa Cruz</td> </tr> <tr> <td>Ryan Quadri</td> <td>Yale U, 12/07</td> <td>OCIW</td> </tr> <tr> <td>Beth Reid</td> <td>Princeton U, 9/08</td> <td>LBNL</td> </tr> <tr> <td>Hilke Schlichting</td> <td>Caltech, 5/09</td> <td>UCLA</td> </tr> <tr> <td>Debora Sijacki</td> <td>MPIA and LMU, 9/07</td> <td>Harvard College Obs</td> </tr> <tr> <td>Matthew Walker</td> <td>U Michigan, 8/07</td> <td>Harvard College</td> </tr> </tbody> </table>\n",
      "\n",
      "Jupiter Moon Transit, January 24, 2015 (06:28 UT)\n",
      "Three moons and their shadows parade across Jupiter at the start of the event at 06:28 UT on January 24, 2015. From left to right the moons Callisto and Io are above Jupiter's cloud tops. The shadows from Europa (not seen in the image), Callisto, and Io are strung out from left to right.\n",
      "\n",
      "Pluto's Satellite System\n",
      "This illustration shows the relative orbits of Pluto's moons: Charon, Nix, P4, and Hydra. The orbits are nearly circular and tilted to our line of sight, so they appear elongated.\n",
      "\n",
      "Compass and Scale Image of Exoplanet System 2M1207\n",
      "(((((((((\n",
      "\n",
      "Galaxy M60 and M60-UCD1 (Non-annotated)\n",
      "(((((((((\n",
      "\n"
     ]
    }
   ],
   "source": [
    "for i, meta_file in enumerate(glob.glob('hubble/meta/*.json')):\n",
    "    with open(meta_file, 'r', encoding='utf8') as mf:\n",
    "        meta = json.load(mf)\n",
    "    print(meta['name'])\n",
    "    print(meta['description'] if 'description' in meta else '(((((((((')\n",
    "    print()\n",
    "    \n",
    "    if i > 10:\n",
    "        break"
   ]
  },
  {
   "cell_type": "code",
   "execution_count": 29,
   "metadata": {},
   "outputs": [
    {
     "name": "stdout",
     "output_type": "stream",
     "text": [
      "3968\r\n"
     ]
    }
   ],
   "source": [
    "! ls -la hubble/jpgs/* | wc -l"
   ]
  },
  {
   "cell_type": "code",
   "execution_count": 28,
   "metadata": {},
   "outputs": [
    {
     "name": "stdout",
     "output_type": "stream",
     "text": [
      "13G\thubble/jpgs\r\n",
      "13G\ttotal\r\n"
     ]
    }
   ],
   "source": [
    "! du -chs hubble/jpgs"
   ]
  },
  {
   "cell_type": "code",
   "execution_count": 32,
   "metadata": {},
   "outputs": [],
   "source": [
    "def read_meta(path):\n",
    "    with open(path, 'r', encoding='utf8') as f:\n",
    "        return os.path.split(path)[-1].split('.')[0], json.load(f)\n",
    "    \n",
    "metas = dict(map(read_meta, glob.glob('hubble/meta/*')))"
   ]
  },
  {
   "cell_type": "code",
   "execution_count": null,
   "metadata": {},
   "outputs": [],
   "source": [
    "import random\n",
    "\n",
    "images = glob.glob('hubble/jpgs/*')\n",
    "for _ in range(10):\n",
    "    figure()\n",
    "    path = random.choice(images)\n",
    "    im = imread(path)\n",
    "    imshow(im)\n",
    "    iid = path.split('/')[-1].split('.')[0]\n",
    "    print(path, im.shape)\n",
    "    title(metas[iid]['collection'])"
   ]
  },
  {
   "cell_type": "code",
   "execution_count": 27,
   "metadata": {},
   "outputs": [
    {
     "name": "stdout",
     "output_type": "stream",
     "text": [
      "name Triple-star System Passes near Milky Way's Central Black Hole\n",
      "description This illustration shows one possible mechanism for how the star HE 0437-5439 acquired enough energy to be ejected from our Milky Way galaxy.\n",
      "\n",
      "In this scenario, a triple-star system, consisting of a close binary system and another outer member bound to the group, is orbiting near the galaxy's monster black hole. One star is captured by the black hole and the tightly bound pair gets ejected from the galaxy. As the duo speeds through the galaxy, one member evolves more quickly and consumes the other. The resulting rejuvenated star, massive and very blue, is called a blue straggler.\n",
      "credits Illustration Credit: <a href=\"http://www.nasa.gov/\">NASA</a>, <a href=\"http://www.spacetelescope.org/\">ESA</a>, and A. Feild (<a href=\"http://www.stsci.edu/\">STScI</a>)\n",
      "\n",
      "Science Credit: <a href=\"http://www.nasa.gov/\">NASA</a>, <a href=\"http://www.spacetelescope.org/\">ESA</a>, O. Gnedin (University of Michigan, Ann Arbor), and W. Brown (Harvard-Smithsonian Center for Astrophysics, Cambridge, Mass.)\n",
      "news_name c\n",
      "mission hubble\n",
      "collection news\n",
      "image_files [{'file_url': 'https://media.stsci.edu/uploads/image_file/image_attachment/20769/mini_thumb.jpg', 'file_size': 758, 'width': 40, 'height': 40}, {'file_url': 'https://media.stsci.edu/uploads/image_file/image_attachment/20773/thumb.jpg', 'file_size': 2005, 'width': 80, 'height': 80}, {'file_url': 'https://media.stsci.edu/uploads/image_file/image_attachment/20772/small_web.jpg', 'file_size': 11507, 'width': 200, 'height': 200}, {'file_url': 'https://media.stsci.edu/uploads/image_file/image_attachment/20774/web.jpg', 'file_size': 29138, 'width': 400, 'height': 300}, {'file_url': 'https://media.stsci.edu/uploads/image_file/image_attachment/20770/pdf.pdf', 'file_size': 7214878, 'width': 792, 'height': 612}, {'file_url': 'https://media.stsci.edu/uploads/image_file/image_attachment/20775/web_print.jpg', 'file_size': 357168, 'width': 1000, 'height': 750}, {'file_url': 'https://media.stsci.edu/uploads/image_file/image_attachment/20776/xlarge_web.jpg', 'file_size': 1093891, 'width': 1280, 'height': 960}, {'file_url': 'https://media.stsci.edu/uploads/image_file/image_attachment/20771/print.jpg', 'file_size': 1033022, 'width': 2400, 'height': 1800}, {'file_url': 'https://media.stsci.edu/uploads/image_file/image_attachment/20768/full_tif.tif', 'file_size': 6939084, 'width': 2400, 'height': 1800}, {'file_url': 'https://media.stsci.edu/uploads/image_file/image_attachment/20767/full_jpg.jpg', 'file_size': 3057731, 'width': 2400, 'height': 1800}]\n"
     ]
    }
   ],
   "source": [
    "with open('hubble/meta/2739.json') as m:\n",
    "    meta = json.load(m)\n",
    "    for k, v in meta.items():\n",
    "        print(k, v)"
   ]
  },
  {
   "cell_type": "code",
   "execution_count": null,
   "metadata": {},
   "outputs": [],
   "source": [
    "#figure(figsize=(20, 20))\n",
    "for sample in sorted(glob.glob('../ABC-GAN/samples_abcgan_nasa_test_2/*')):\n",
    "    figure(figsize=(10, 10))\n",
    "    print(sample)\n",
    "    im = imread(sample)\n",
    "    imshow(im)\n",
    "    "
   ]
  },
  {
   "cell_type": "code",
   "execution_count": null,
   "metadata": {},
   "outputs": [],
   "source": []
  }
 ],
 "metadata": {
  "kernelspec": {
   "display_name": "Python 3",
   "language": "python",
   "name": "python3"
  },
  "language_info": {
   "codemirror_mode": {
    "name": "ipython",
    "version": 3
   },
   "file_extension": ".py",
   "mimetype": "text/x-python",
   "name": "python",
   "nbconvert_exporter": "python",
   "pygments_lexer": "ipython3",
   "version": "3.6.6"
  }
 },
 "nbformat": 4,
 "nbformat_minor": 2
}

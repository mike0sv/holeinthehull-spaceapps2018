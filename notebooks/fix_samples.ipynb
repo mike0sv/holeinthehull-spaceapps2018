{
 "cells": [
  {
   "cell_type": "code",
   "execution_count": null,
   "metadata": {},
   "outputs": [],
   "source": [
    "%pylab inline"
   ]
  },
  {
   "cell_type": "code",
   "execution_count": null,
   "metadata": {},
   "outputs": [],
   "source": [
    "import glob\n",
    "import os"
   ]
  },
  {
   "cell_type": "code",
   "execution_count": null,
   "metadata": {},
   "outputs": [],
   "source": [
    "sample_path = max(glob.glob('./samples/samples_abcgan_nasa_test_5/*'), key=lambda x: os.path.getctime(x))\n"
   ]
  },
  {
   "cell_type": "code",
   "execution_count": null,
   "metadata": {},
   "outputs": [],
   "source": [
    "sample_path"
   ]
  },
  {
   "cell_type": "code",
   "execution_count": null,
   "metadata": {},
   "outputs": [],
   "source": [
    "img = imread(sample_path)\n",
    "imshow(img)"
   ]
  },
  {
   "cell_type": "code",
   "execution_count": null,
   "metadata": {},
   "outputs": [],
   "source": [
    "figure(figsize=(20, 20))\n",
    "img1 = img[100:400, 100:400, :3]\n",
    "imshow(img1)"
   ]
  },
  {
   "cell_type": "code",
   "execution_count": null,
   "metadata": {},
   "outputs": [],
   "source": [
    "import cv2"
   ]
  },
  {
   "cell_type": "code",
   "execution_count": null,
   "metadata": {},
   "outputs": [],
   "source": [
    "denoised = cv2.fastNlMeansDenoisingColored(cv2.imread(sample_path))"
   ]
  },
  {
   "cell_type": "code",
   "execution_count": null,
   "metadata": {},
   "outputs": [],
   "source": [
    "figure(figsize=(20, 20))\n",
    "imshow(denoised)"
   ]
  },
  {
   "cell_type": "code",
   "execution_count": null,
   "metadata": {},
   "outputs": [],
   "source": [
    "figure(figsize=(20, 20))\n",
    "imshow(cv2.imread(sample_path))"
   ]
  },
  {
   "cell_type": "code",
   "execution_count": null,
   "metadata": {},
   "outputs": [],
   "source": [
    "figure(figsize=(20, 20))\n",
    "imshow(cv2.imread(sample_path)[-400:-100, -400:-100, :])"
   ]
  },
  {
   "cell_type": "code",
   "execution_count": null,
   "metadata": {},
   "outputs": [],
   "source": [
    "# PATH = './data_512/*'\n",
    "PATH = '../ABC-GAN/data/nasa_test_2_super_highlight/*'\n",
    "\n",
    "for i, train_im in enumerate(glob.glob(PATH)):\n",
    "    im = imread(train_im)\n",
    "    print(train_im, im.shape, im.mean())\n",
    "    hist(im.mean(axis=2).ravel(), bins=100)\n",
    "    title(str(np.mean(im)))\n",
    "    figure()\n",
    "    imshow(im)\n",
    "    figure()\n",
    "    if i > 10:\n",
    "        break"
   ]
  },
  {
   "cell_type": "code",
   "execution_count": null,
   "metadata": {},
   "outputs": [],
   "source": [
    "hist(im.astype(np.int16).ravel())"
   ]
  },
  {
   "cell_type": "code",
   "execution_count": null,
   "metadata": {},
   "outputs": [],
   "source": [
    "from tqdm import tqdm_notebook as tqdm\n",
    "import shutil"
   ]
  },
  {
   "cell_type": "code",
   "execution_count": null,
   "metadata": {},
   "outputs": [],
   "source": [
    "TH = 30\n",
    "count = 0\n",
    "means = []\n",
    "for i, train_im in enumerate(tqdm(glob.glob('./data_512/*'))):\n",
    "    im = imread(train_im)\n",
    "    m = im.mean()\n",
    "    means.append(m)\n",
    "    if m < TH:\n",
    "        count += 1\n",
    "        shutil.copy(train_im, '../ABC-GAN/data/nasa_test_2_lowlight/')\n",
    "        \n",
    "count"
   ]
  },
  {
   "cell_type": "code",
   "execution_count": null,
   "metadata": {},
   "outputs": [],
   "source": [
    "TH = 60\n",
    "count = 0\n",
    "means = []\n",
    "for i, train_im in enumerate(tqdm(glob.glob('./data_512/*'))):\n",
    "    im = imread(train_im)\n",
    "    m = im.mean()\n",
    "    means.append(m)\n",
    "    if m > TH:\n",
    "        count += 1\n",
    "        shutil.copy(train_im, '../ABC-GAN/data/nasa_test_2_highlight/')\n",
    "        \n",
    "count"
   ]
  },
  {
   "cell_type": "code",
   "execution_count": null,
   "metadata": {},
   "outputs": [],
   "source": [
    "! mkdir ../ABC-GAN/data/nasa_test_2_super_highlight/"
   ]
  },
  {
   "cell_type": "code",
   "execution_count": null,
   "metadata": {},
   "outputs": [],
   "source": [
    "TH = 100\n",
    "count = 0\n",
    "means = []\n",
    "for i, train_im in enumerate(tqdm(glob.glob('./data_512/*'))):\n",
    "    im = imread(train_im)\n",
    "    m = im.mean()\n",
    "    means.append(m)\n",
    "    if m > TH:\n",
    "        count += 1\n",
    "        shutil.copy(train_im, '../ABC-GAN/data/nasa_test_2_super_highlight/')\n",
    "        \n",
    "count"
   ]
  },
  {
   "cell_type": "code",
   "execution_count": null,
   "metadata": {},
   "outputs": [],
   "source": [
    "hist(means, bins=100);"
   ]
  },
  {
   "cell_type": "code",
   "execution_count": null,
   "metadata": {},
   "outputs": [],
   "source": [
    "test_im = cv2.imread(sample_path)[-512:, -512:, :]\n",
    "kernel = np.ones((5,5),np.float32)/25\n",
    "dst = cv2.filter2D(test_im,-1,kernel)"
   ]
  },
  {
   "cell_type": "code",
   "execution_count": null,
   "metadata": {},
   "outputs": [],
   "source": [
    "figure(figsize=(10, 10))\n",
    "imshow(dst)\n",
    "figure(figsize=(10, 10))\n",
    "imshow(test_im)"
   ]
  },
  {
   "cell_type": "code",
   "execution_count": null,
   "metadata": {},
   "outputs": [],
   "source": [
    "figure(figsize=(10, 10))\n",
    "imshow(cv2.blur(test_im, (8, 8)))"
   ]
  },
  {
   "cell_type": "code",
   "execution_count": null,
   "metadata": {},
   "outputs": [],
   "source": [
    "figure(figsize=(10, 10))\n",
    "imshow(cv2.GaussianBlur(test_im, (5, 5), 0, 0))"
   ]
  },
  {
   "cell_type": "code",
   "execution_count": null,
   "metadata": {},
   "outputs": [],
   "source": []
  }
 ],
 "metadata": {
  "kernelspec": {
   "display_name": "Python 3",
   "language": "python",
   "name": "python3"
  },
  "language_info": {
   "codemirror_mode": {
    "name": "ipython",
    "version": 3
   },
   "file_extension": ".py",
   "mimetype": "text/x-python",
   "name": "python",
   "nbconvert_exporter": "python",
   "pygments_lexer": "ipython3",
   "version": "3.6.6"
  }
 },
 "nbformat": 4,
 "nbformat_minor": 2
}

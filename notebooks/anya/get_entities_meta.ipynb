{
 "cells": [
  {
   "cell_type": "code",
   "execution_count": 96,
   "metadata": {},
   "outputs": [],
   "source": [
    "import json\n",
    "import os\n",
    "import pandas as pd"
   ]
  },
  {
   "cell_type": "code",
   "execution_count": 82,
   "metadata": {},
   "outputs": [
    {
     "data": {
      "text/plain": [
       "'/home/mike/nasahack/notebooks/anya'"
      ]
     },
     "execution_count": 82,
     "metadata": {},
     "output_type": "execute_result"
    }
   ],
   "source": [
    "os.getcwd()"
   ]
  },
  {
   "cell_type": "code",
   "execution_count": 3,
   "metadata": {},
   "outputs": [],
   "source": [
    "mypath = \"/home/mike/nasahack/notebooks/hubble/meta\""
   ]
  },
  {
   "cell_type": "code",
   "execution_count": 40,
   "metadata": {},
   "outputs": [],
   "source": [
    "# get paths to all meta files\n",
    "PATHS = []\n",
    "for (dirpath, dirnames, filenames) in os.walk(mypath):\n",
    "    PATHS.extend(filenames)\n",
    "    break"
   ]
  },
  {
   "cell_type": "code",
   "execution_count": 41,
   "metadata": {},
   "outputs": [],
   "source": [
    "PATHS = [x for x in PATHS if x != '1.json']"
   ]
  },
  {
   "cell_type": "code",
   "execution_count": 22,
   "metadata": {},
   "outputs": [],
   "source": [
    "# get names of all images\n",
    "names = {}\n",
    "\n",
    "for path in PATHS:\n",
    "    with open(\"/home/mike/nasahack/notebooks/hubble/meta/{path}\".format(path=path)) as file:\n",
    "        data = json.load(file)\n",
    "        id_ = str(data['id'])\n",
    "        names[id_] = data['name']\n",
    "        file.close()"
   ]
  },
  {
   "cell_type": "code",
   "execution_count": 23,
   "metadata": {},
   "outputs": [],
   "source": [
    "pics_names = list(names.values())"
   ]
  },
  {
   "cell_type": "code",
   "execution_count": 6,
   "metadata": {},
   "outputs": [],
   "source": [
    "#!conda install nltk -y"
   ]
  },
  {
   "cell_type": "code",
   "execution_count": 24,
   "metadata": {},
   "outputs": [],
   "source": [
    "from nltk.stem import PorterStemmer\n",
    "from nltk.tokenize import sent_tokenize, word_tokenize\n",
    "\n",
    "ps = PorterStemmer()"
   ]
  },
  {
   "cell_type": "code",
   "execution_count": 94,
   "metadata": {
    "scrolled": true
   },
   "outputs": [],
   "source": [
    "# import nltk\n",
    "# nltk.download('punkt')"
   ]
  },
  {
   "cell_type": "code",
   "execution_count": 25,
   "metadata": {},
   "outputs": [],
   "source": [
    "pics_names_tok = []\n",
    "\n",
    "for i in pics_names:\n",
    "    toks = word_tokenize(i)\n",
    "    for t in toks:\n",
    "        t = ps.stem(t)\n",
    "        pics_names_tok.append(t)"
   ]
  },
  {
   "cell_type": "code",
   "execution_count": 26,
   "metadata": {},
   "outputs": [
    {
     "data": {
      "text/plain": [
       "29130"
      ]
     },
     "execution_count": 26,
     "metadata": {},
     "output_type": "execute_result"
    }
   ],
   "source": [
    "len(pics_names_tok)"
   ]
  },
  {
   "cell_type": "code",
   "execution_count": 27,
   "metadata": {},
   "outputs": [],
   "source": [
    "wordfreq = []\n",
    "for w in pics_names_tok:\n",
    "    wordfreq.append(pics_names_tok.count(w))"
   ]
  },
  {
   "cell_type": "code",
   "execution_count": 28,
   "metadata": {},
   "outputs": [],
   "source": [
    "wfreqs = {}\n",
    "for w,f in zip(pics_names_tok, wordfreq):\n",
    "    wfreqs[w] = f"
   ]
  },
  {
   "cell_type": "code",
   "execution_count": 29,
   "metadata": {},
   "outputs": [
    {
     "data": {
      "text/plain": [
       "['of',\n",
       " 'galaxi',\n",
       " 'the',\n",
       " 'imag',\n",
       " 'hubbl',\n",
       " 'and',\n",
       " 'in',\n",
       " ')',\n",
       " '(',\n",
       " \"'s\",\n",
       " ',',\n",
       " 'ngc',\n",
       " 'star',\n",
       " 'nebula',\n",
       " 'cluster',\n",
       " '-',\n",
       " ':',\n",
       " 'compass',\n",
       " 'scale',\n",
       " 'view',\n",
       " 'for',\n",
       " 'a',\n",
       " 'from',\n",
       " 'supernova',\n",
       " 'A',\n",
       " 'jupit',\n",
       " 'artist',\n",
       " 'comet',\n",
       " 'field',\n",
       " 'with',\n",
       " 'spiral',\n",
       " 'on',\n",
       " 'hst',\n",
       " 'light',\n",
       " 'ring',\n",
       " 'abel',\n",
       " 'detail',\n",
       " '``',\n",
       " \"''\",\n",
       " 'around',\n",
       " 'disk',\n",
       " 'mar',\n",
       " 'univers',\n",
       " 'dwarf',\n",
       " 'deep',\n",
       " 'space',\n",
       " 'system',\n",
       " 'saturn',\n",
       " 'interact',\n",
       " 'illustr',\n",
       " 'to',\n",
       " 'telescop',\n",
       " 'moon',\n",
       " 'globular',\n",
       " 'region',\n",
       " 'locat',\n",
       " 'distant',\n",
       " 'planet',\n",
       " 'orion',\n",
       " 'carina',\n",
       " 'gravit',\n",
       " 'infrar',\n",
       " 'cloud',\n",
       " 'at',\n",
       " 'planetari',\n",
       " 'ground-bas',\n",
       " 'black',\n",
       " 'annot',\n",
       " '2',\n",
       " 'dust',\n",
       " 'close-up',\n",
       " 'stellar',\n",
       " 'ga',\n",
       " 'ski',\n",
       " '–',\n",
       " 'milki',\n",
       " '1987a',\n",
       " 'hole',\n",
       " 'jet',\n",
       " 'ac',\n",
       " 'red',\n",
       " 'way',\n",
       " 'pluto',\n",
       " 'color',\n",
       " 'object',\n",
       " 'collis',\n",
       " 'core',\n",
       " 'quasar',\n",
       " 'survey',\n",
       " 'composit',\n",
       " '1',\n",
       " 'neptun',\n",
       " 'len',\n",
       " \"'\",\n",
       " 'impact',\n",
       " 'HD',\n",
       " 'center',\n",
       " 'ultra',\n",
       " 'SN',\n",
       " '9']"
      ]
     },
     "execution_count": 29,
     "metadata": {},
     "output_type": "execute_result"
    }
   ],
   "source": [
    "pd.DataFrame.from_dict(wfreqs, orient='index').sort_values(by=0,ascending=False).reset_index()['index'].tolist()[:100]"
   ]
  },
  {
   "cell_type": "code",
   "execution_count": 30,
   "metadata": {},
   "outputs": [],
   "source": [
    "# labelling the images\n",
    "# , \"space\":['comet', 'hole', 'space','moon','universe']\n",
    "labels = {\n",
    "    \"galaxy\":['galaxi', 'ring', 'quasar'],\n",
    "    \"star\":['star', 'starburst','nebula', 'supernova','disk','orion','stellar'], \n",
    "    \"planet\":[\"planet\", \"jupyt\",\"mar\",\"saturn\",\"neptun\", \"mercury\", \"venu\", \"earth\", \"uranu\"]\n",
    "         }"
   ]
  },
  {
   "cell_type": "code",
   "execution_count": 31,
   "metadata": {},
   "outputs": [],
   "source": [
    "pics_names_tok = []\n",
    "\n",
    "for i in pics_names:\n",
    "    pics_name_tok = []\n",
    "    toks = word_tokenize(i)\n",
    "    for t in toks:\n",
    "        t = ps.stem(t)\n",
    "        pics_name_tok.append(t)\n",
    "        \n",
    "    pics_names_tok.append(pics_name_tok)"
   ]
  },
  {
   "cell_type": "code",
   "execution_count": 32,
   "metadata": {},
   "outputs": [
    {
     "data": {
      "text/plain": [
       "['light', 'curv', 'of', 'cepheid', 'variabl', 'in', 'ngc', '3370']"
      ]
     },
     "execution_count": 32,
     "metadata": {},
     "output_type": "execute_result"
    }
   ],
   "source": [
    "pics_names_tok[9]"
   ]
  },
  {
   "cell_type": "code",
   "execution_count": 33,
   "metadata": {},
   "outputs": [],
   "source": [
    "labelled_pics = []\n",
    "\n",
    "for t in pics_names_tok:\n",
    "    if any(elem in t for elem in labels['galaxy']):\n",
    "        labelled_pics.append(\"galaxy\")\n",
    "        continue\n",
    "    elif any(elem in t for elem in labels['star']):\n",
    "        labelled_pics.append(\"star\")\n",
    "        continue\n",
    "    elif any(elem in t for elem in labels['planet']):\n",
    "        labelled_pics.append(\"planet\")\n",
    "        continue\n",
    "    else:\n",
    "        labelled_pics.append(\"space\")\n",
    "        continue"
   ]
  },
  {
   "cell_type": "code",
   "execution_count": 34,
   "metadata": {},
   "outputs": [
    {
     "data": {
      "text/plain": [
       "4149"
      ]
     },
     "execution_count": 34,
     "metadata": {},
     "output_type": "execute_result"
    }
   ],
   "source": [
    "len(labelled_pics)"
   ]
  },
  {
   "cell_type": "code",
   "execution_count": 38,
   "metadata": {},
   "outputs": [],
   "source": [
    "d = pd.DataFrame(labelled_pics, columns=['type'])\n",
    "d.index = [x for x in list(names.keys()) if x != \"1\"]"
   ]
  },
  {
   "cell_type": "code",
   "execution_count": 37,
   "metadata": {},
   "outputs": [
    {
     "data": {
      "text/plain": [
       "4149"
      ]
     },
     "execution_count": 37,
     "metadata": {},
     "output_type": "execute_result"
    }
   ],
   "source": []
  },
  {
   "cell_type": "code",
   "execution_count": 39,
   "metadata": {},
   "outputs": [],
   "source": [
    "labels = pd.DataFrame.to_dict(d)['type']"
   ]
  },
  {
   "cell_type": "code",
   "execution_count": 136,
   "metadata": {},
   "outputs": [],
   "source": [
    "with open(\"/home/mike/nasahack/notebooks/labels.json\", \"w\") as outfile:\n",
    "    json.dump(labels, outfile)\n",
    "    outfile.close()"
   ]
  },
  {
   "cell_type": "code",
   "execution_count": 4,
   "metadata": {},
   "outputs": [],
   "source": [
    "import json\n",
    "with open(\"/home/mike/nasahack/notebooks/labels.json\", \"r\") as outfile:\n",
    "    data = json.load(outfile)\n",
    "    outfile.close()"
   ]
  },
  {
   "cell_type": "code",
   "execution_count": 57,
   "metadata": {},
   "outputs": [],
   "source": [
    "# get meta of all images\n",
    "meta = {}\n",
    "\n",
    "for path in PATHS:\n",
    "    with open(\"/home/mike/nasahack/notebooks/hubble/meta/{path}\".format(path=path)) as file:\n",
    "        data = json.load(file)\n",
    "        id_ = data['id']\n",
    "        name = data['name']\n",
    "        if ('description' not in list(data.keys())):\n",
    "            meta[id_] = {'name':name}\n",
    "        else:\n",
    "            descr = data['description']\n",
    "            meta[id_] = {'name':name, 'descr':descr}\n",
    "        file.close()"
   ]
  },
  {
   "cell_type": "code",
   "execution_count": 55,
   "metadata": {},
   "outputs": [
    {
     "data": {
      "text/plain": [
       "True"
      ]
     },
     "execution_count": 55,
     "metadata": {},
     "output_type": "execute_result"
    }
   ],
   "source": [
    "'description' not in list(data.keys())"
   ]
  },
  {
   "cell_type": "code",
   "execution_count": 56,
   "metadata": {},
   "outputs": [
    {
     "name": "stdout",
     "output_type": "stream",
     "text": [
      "1\n"
     ]
    }
   ],
   "source": [
    "if ('description' not in list(data.keys())):\n",
    "            print(1)"
   ]
  },
  {
   "cell_type": "code",
   "execution_count": 64,
   "metadata": {},
   "outputs": [],
   "source": [
    "meta_df = pd.DataFrame.from_dict(meta, orient='index')\n"
   ]
  },
  {
   "cell_type": "code",
   "execution_count": 71,
   "metadata": {},
   "outputs": [],
   "source": [
    "# labels_df = pd.DataFrame.from_dict(labels, orient='index')\n",
    "with open(\"/home/mike/nasahack/notebooks/labels.json\", \"r\") as outfile:\n",
    "    data = json.load(outfile)\n",
    "    labels_df = pd.DataFrame.from_dict(data,orient='index')\n",
    "    outfile.close()"
   ]
  },
  {
   "cell_type": "code",
   "execution_count": 72,
   "metadata": {},
   "outputs": [],
   "source": [
    "labels_df.columns = ['label']"
   ]
  },
  {
   "cell_type": "code",
   "execution_count": 88,
   "metadata": {
    "scrolled": true
   },
   "outputs": [],
   "source": [
    "labels_df.index = [int(x) for x in list(labels_df.index)]"
   ]
  },
  {
   "cell_type": "code",
   "execution_count": 93,
   "metadata": {},
   "outputs": [],
   "source": [
    "meta_all = pd.merge(labels_df, meta_df, left_index=True, right_index=True, how='right').reset_index()\n",
    "meta_all.columns = ['id','label','name','descr']"
   ]
  },
  {
   "cell_type": "code",
   "execution_count": 94,
   "metadata": {},
   "outputs": [],
   "source": [
    "meta_all.to_csv('/home/mike/nasahack/notebooks/meta_all.csv', index=False)"
   ]
  },
  {
   "cell_type": "code",
   "execution_count": null,
   "metadata": {},
   "outputs": [],
   "source": []
  },
  {
   "cell_type": "code",
   "execution_count": null,
   "metadata": {},
   "outputs": [],
   "source": []
  },
  {
   "cell_type": "code",
   "execution_count": 114,
   "metadata": {},
   "outputs": [],
   "source": [
    "gen_meta_all = pd.read_csv(\"/home/mike/nasahack/notebooks/misha/generated_meta.csv\")\n",
    "#gen_meta_all['name'] = \"I'm sorry, you're wrong\"\n",
    "#gen_meta_all = "
   ]
  },
  {
   "cell_type": "code",
   "execution_count": 107,
   "metadata": {},
   "outputs": [],
   "source": [
    "import requests\n",
    "res = requests.get(\"http://95.165.134.88:6007/gen.txt\")\n",
    "data = res.text\n",
    "data = data.split()"
   ]
  },
  {
   "cell_type": "code",
   "execution_count": 108,
   "metadata": {},
   "outputs": [
    {
     "data": {
      "text/plain": [
       "5168"
      ]
     },
     "execution_count": 108,
     "metadata": {},
     "output_type": "execute_result"
    }
   ],
   "source": [
    "len(data)"
   ]
  },
  {
   "cell_type": "code",
   "execution_count": 125,
   "metadata": {},
   "outputs": [],
   "source": [
    "gen_meta_all = gen_meta_all['descr'].tolist() * 4\n",
    "gen_meta_all = gen_meta_all[:-464]"
   ]
  },
  {
   "cell_type": "code",
   "execution_count": 128,
   "metadata": {},
   "outputs": [],
   "source": [
    "gen_meta_all = pd.DataFrame(gen_meta_all)\n",
    "gen_meta_all['name'] = \"I'm sorry, you're wrong\"\n",
    "gen_meta_all['id'] = data\n",
    "gen_meta_all.columns = [\"descr\", 'name','id']"
   ]
  },
  {
   "cell_type": "code",
   "execution_count": 130,
   "metadata": {},
   "outputs": [],
   "source": [
    "gen_meta_all.to_csv('/home/mike/nasahack/notebooks/gen_meta_all.csv', index=False)"
   ]
  },
  {
   "cell_type": "code",
   "execution_count": null,
   "metadata": {},
   "outputs": [],
   "source": []
  }
 ],
 "metadata": {
  "kernelspec": {
   "display_name": "Python 3",
   "language": "python",
   "name": "python3"
  },
  "language_info": {
   "codemirror_mode": {
    "name": "ipython",
    "version": 3
   },
   "file_extension": ".py",
   "mimetype": "text/x-python",
   "name": "python",
   "nbconvert_exporter": "python",
   "pygments_lexer": "ipython3",
   "version": "3.6.6"
  }
 },
 "nbformat": 4,
 "nbformat_minor": 2
}

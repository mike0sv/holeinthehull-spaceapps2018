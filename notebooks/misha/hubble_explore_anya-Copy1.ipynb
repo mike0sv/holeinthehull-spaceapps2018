{
 "cells": [
  {
   "cell_type": "code",
   "execution_count": 1,
   "metadata": {},
   "outputs": [
    {
     "name": "stdout",
     "output_type": "stream",
     "text": [
      "Populating the interactive namespace from numpy and matplotlib\n"
     ]
    }
   ],
   "source": [
    "%pylab inline"
   ]
  },
  {
   "cell_type": "code",
   "execution_count": 2,
   "metadata": {},
   "outputs": [],
   "source": [
    "import glob\n",
    "import json\n",
    "import os\n",
    "from IPython.display import Image\n",
    "from IPython.display import clear_output\n",
    "import random"
   ]
  },
  {
   "cell_type": "code",
   "execution_count": null,
   "metadata": {},
   "outputs": [],
   "source": [
    "metas_not_marked_paths = []\n",
    "\n",
    "for file in glob.glob('../hubble/meta/*.json'):\n",
    "    with open(file, 'r', encoding='utf8') as mf:\n",
    "        meta = json.load(mf)\n",
    "        \n",
    "    if not 'is_good' in meta:\n",
    "        metas_not_marked_paths.append(file)\n",
    "\n",
    "print('Number of images not marked: {}'.format(str(len(metas_not_marked_paths))))\n",
    "\n",
    "for file in metas_not_marked_paths:\n",
    "    with open(file, 'r', encoding='utf8') as mf:\n",
    "        meta = json.load(mf)\n",
    "    print(meta['id'])\n",
    "    \n",
    "    if 'is_good' in meta:\n",
    "        continue\n",
    "    \n",
    "    try:\n",
    "        display(Image(filename='../hubble/jpgs/{}.jpg'.format(meta['id']), width = 300, height = 300))\n",
    "        \n",
    "        response = input('Is it good?')\n",
    "        \n",
    "        meta['is_good'] = response\n",
    "        \n",
    "        with open(file, 'w', encoding = 'utf-8') as file:\n",
    "            json.dump(meta, file)\n",
    "    except: \n",
    "        continue\n",
    "    clear_output()"
   ]
  },
  {
   "cell_type": "code",
   "execution_count": null,
   "metadata": {},
   "outputs": [],
   "source": []
  }
 ],
 "metadata": {
  "kernelspec": {
   "display_name": "Python 3",
   "language": "python",
   "name": "python3"
  },
  "language_info": {
   "codemirror_mode": {
    "name": "ipython",
    "version": 3
   },
   "file_extension": ".py",
   "mimetype": "text/x-python",
   "name": "python",
   "nbconvert_exporter": "python",
   "pygments_lexer": "ipython3",
   "version": "3.6.6"
  }
 },
 "nbformat": 4,
 "nbformat_minor": 2
}
